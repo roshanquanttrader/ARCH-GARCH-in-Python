{
 "cells": [
  {
   "cell_type": "code",
   "execution_count": 1,
   "id": "04ea270b",
   "metadata": {},
   "outputs": [
    {
     "data": {
      "text/html": [
       "        <script type=\"text/javascript\">\n",
       "        window.PlotlyConfig = {MathJaxConfig: 'local'};\n",
       "        if (window.MathJax) {MathJax.Hub.Config({SVG: {font: \"STIX-Web\"}});}\n",
       "        if (typeof require !== 'undefined') {\n",
       "        require.undef(\"plotly\");\n",
       "        requirejs.config({\n",
       "            paths: {\n",
       "                'plotly': ['https://cdn.plot.ly/plotly-2.2.0.min']\n",
       "            }\n",
       "        });\n",
       "        require(['plotly'], function(Plotly) {\n",
       "            window._Plotly = Plotly;\n",
       "        });\n",
       "        }\n",
       "        </script>\n",
       "        "
      ]
     },
     "metadata": {},
     "output_type": "display_data"
    },
    {
     "data": {
      "text/html": [
       "        <script type=\"text/javascript\">\n",
       "        window.PlotlyConfig = {MathJaxConfig: 'local'};\n",
       "        if (window.MathJax) {MathJax.Hub.Config({SVG: {font: \"STIX-Web\"}});}\n",
       "        if (typeof require !== 'undefined') {\n",
       "        require.undef(\"plotly\");\n",
       "        requirejs.config({\n",
       "            paths: {\n",
       "                'plotly': ['https://cdn.plot.ly/plotly-2.2.0.min']\n",
       "            }\n",
       "        });\n",
       "        require(['plotly'], function(Plotly) {\n",
       "            window._Plotly = Plotly;\n",
       "        });\n",
       "        }\n",
       "        </script>\n",
       "        "
      ]
     },
     "metadata": {},
     "output_type": "display_data"
    }
   ],
   "source": [
    "import pandas as pd\n",
    "import numpy as np\n",
    "import plotly.graph_objects as go\n",
    "from plotly.subplots import make_subplots\n",
    "import cufflinks as cf\n",
    "cf.set_config_file(offline=True)\n",
    "import openpyxl\n",
    "from pathlib import Path\n",
    "from pandas import read_excel"
   ]
  },
  {
   "cell_type": "markdown",
   "id": "2f3fd19b",
   "metadata": {},
   "source": [
    "# Reading Gold & ETF Prices"
   ]
  },
  {
   "cell_type": "code",
   "execution_count": 2,
   "id": "a6e66241",
   "metadata": {},
   "outputs": [
    {
     "name": "stdout",
     "output_type": "stream",
     "text": [
      "              Open    High     Low  Close  Adj Close\n",
      "Date                                                \n",
      "2019-10-01  14.620  14.835  14.590  14.77      14.77\n",
      "2019-10-02  14.910  15.020  14.875  14.95      14.95\n",
      "2019-10-03  14.960  15.160  14.960  15.02      15.02\n",
      "2019-10-04  14.980  15.065  14.950  15.02      15.02\n",
      "2019-10-07  14.950  15.010  14.850  14.90      14.90\n",
      "2019-10-08  15.030  15.060  14.950  15.02      15.02\n",
      "2019-10-09  15.060  15.090  15.000  15.04      15.04\n",
      "2019-10-10  14.990  14.990  14.885  14.91      14.91\n",
      "2019-10-11  14.820  14.870  14.710  14.82      14.82\n",
      "2019-10-14  14.880  14.910  14.860  14.89      14.89\n",
      "2019-10-15  14.850  14.850  14.740  14.77      14.77\n",
      "2019-10-16  14.840  14.879  14.790  14.87      14.87\n",
      "2019-10-17  14.880  14.935  14.870  14.88      14.88\n",
      "2019-10-18  14.880  14.896  14.860  14.88      14.88\n",
      "2019-10-21  14.900  14.910  14.780  14.80      14.80\n",
      "2019-10-22  14.840  14.857  14.795  14.85      14.85\n",
      "2019-10-23  14.890  14.923  14.880  14.89      14.89\n",
      "2019-10-24  14.930  15.010  14.927  14.98      14.98\n",
      "2019-10-25  15.120  15.120  14.975  15.01      15.01\n",
      "2019-10-28  14.960  14.960  14.863  14.90      14.90\n",
      "2019-10-29  14.830  14.880  14.800  14.85      14.85\n",
      "2019-10-30  14.880  14.937  14.780  14.93      14.93\n",
      "2019-11-01  15.060  15.130  15.040  15.09      15.09\n",
      "2019-11-04  15.060  15.085  15.010  15.04      15.04\n",
      "2019-11-05  14.900  14.915  14.760  14.81      14.81\n",
      "2019-11-06  14.840  14.906  14.826  14.88      14.88\n",
      "2019-11-07  14.840  14.850  14.570  14.64      14.64\n",
      "2019-11-08  14.590  14.650  14.550  14.55      14.55\n",
      "2019-11-11  14.570  14.590  14.454  14.51      14.51\n",
      "2019-11-12  14.520  14.575  14.430  14.55      14.55\n",
      "2019-11-13  14.600  14.635  14.570  14.61      14.61\n",
      "2019-11-14  14.660  14.710  14.610  14.67      14.67\n",
      "2019-11-15  14.610  14.660  14.610  14.64      14.64\n",
      "2019-11-18  14.670  14.705  14.644  14.69      14.69\n",
      "2019-11-19  14.630  14.720  14.630  14.68      14.68\n",
      "2019-11-20  14.670  14.720  14.620  14.70      14.70\n",
      "2019-11-21  14.660  14.670  14.590  14.62      14.62\n",
      "2019-11-22  14.660  14.660  14.580  14.59      14.59\n",
      "2019-11-25  14.540  14.567  14.500  14.51      14.51\n",
      "2019-11-26  14.516  14.590  14.470  14.59      14.59\n",
      "2019-11-27  14.520  14.530  14.490  14.51      14.51\n",
      "2019-11-29  14.520  14.630  14.515  14.61      14.61 \n",
      "\n"
     ]
    }
   ],
   "source": [
    "\n",
    "gold_data = pd.read_excel (r'C:\\Users\\RSHARMA\\Desktop\\GR3\\Project_Data.xlsx', sheet_name='Gold ETF', index_col='Date',parse_dates=True)\n",
    "\n",
    "\n",
    "print(gold_data,'\\n')\n"
   ]
  },
  {
   "cell_type": "code",
   "execution_count": 3,
   "id": "71002930",
   "metadata": {},
   "outputs": [
    {
     "name": "stdout",
     "output_type": "stream",
     "text": [
      "            Prev Close  Open Price  High Price  Low Price  Last Price  \\\n",
      "Date                                                                    \n",
      "2019-10-01      117.77      118.42      118.98     116.52      117.24   \n",
      "2019-10-03      117.97      118.02      118.02     116.14      116.60   \n",
      "2019-10-04      116.59      117.00      117.28     115.20      115.43   \n",
      "2019-10-07      115.41      116.00      117.00     114.21      114.60   \n",
      "2019-10-09      114.55      115.50      116.67     114.25      116.57   \n",
      "2019-10-10      116.51      116.00      116.45     115.25      115.90   \n",
      "2019-10-11      115.72      115.80      116.80     115.16      116.15   \n",
      "2019-10-14      116.33      117.50      117.50     116.00      116.80   \n",
      "2019-10-15      116.70      116.51      117.85     116.51      117.62   \n",
      "2019-10-16      117.69      120.00      138.55     117.25      117.71   \n",
      "2019-10-17      117.81      119.00      119.20     117.55      119.20   \n",
      "2019-10-18      119.02      119.00      120.10     118.81      119.70   \n",
      "2019-10-22      119.73      122.10      122.10     119.29      119.59   \n",
      "2019-10-23      119.50      119.44      120.17     119.00      119.70   \n",
      "2019-10-24      119.74      120.31      120.37     119.00      119.60   \n",
      "2019-10-25      119.46      119.48      119.80     118.56      119.45   \n",
      "2019-10-27      119.53      121.90      132.70     119.46      119.75   \n",
      "2019-10-29      119.85      121.90      132.70     119.52      121.25   \n",
      "2019-10-30      121.18      121.18      122.10     120.55      121.89   \n",
      "2019-10-31      121.84      116.01      122.70     116.01      122.10   \n",
      "2019-11-01      122.05      120.00      122.40     120.00      122.40   \n",
      "2019-11-04      122.25      122.70      123.35     122.45      122.93   \n",
      "2019-11-05      122.82      125.30      136.30     122.16      122.70   \n",
      "2019-11-06      122.53      122.68      123.50     121.95      123.00   \n",
      "2019-11-07      123.05      123.16      123.80     122.81      123.48   \n",
      "2019-11-08      123.34      123.00      123.70     122.39      122.90   \n",
      "2019-11-11      122.63      123.66      123.71     121.88      122.49   \n",
      "2019-11-13      122.32      122.32      122.84     121.57      121.80   \n",
      "2019-11-14      121.81      124.20      124.50     121.36      122.15   \n",
      "2019-11-15      122.13      124.50      124.50     122.13      122.40   \n",
      "2019-11-18      122.52      122.52      122.82     122.11      122.73   \n",
      "2019-11-19      122.69      125.10      126.50     122.30      122.77   \n",
      "2019-11-20      122.87      122.70      124.15     122.70      123.75   \n",
      "2019-11-21      123.74      125.00      125.00     123.20      123.30   \n",
      "2019-11-22      123.37      123.51      123.51     122.20      122.70   \n",
      "2019-11-25      122.69      124.00      124.00     122.34      123.81   \n",
      "2019-11-26      123.83      124.09      124.50     123.33      123.70   \n",
      "2019-11-27      123.79      124.20      124.79     123.92      124.70   \n",
      "2019-11-28      124.36      124.69      125.00     124.24      124.90   \n",
      "2019-11-29      124.91      125.00      125.00     123.80      124.37   \n",
      "\n",
      "            Adj Close  Average Price  \n",
      "Date                                  \n",
      "2019-10-01     117.97         117.69  \n",
      "2019-10-03     116.59         116.57  \n",
      "2019-10-04     115.41         116.11  \n",
      "2019-10-07     114.55         114.99  \n",
      "2019-10-09     116.51         115.80  \n",
      "2019-10-10     115.72         115.93  \n",
      "2019-10-11     116.33         115.72  \n",
      "2019-10-14     116.70         116.90  \n",
      "2019-10-15     117.69         117.44  \n",
      "2019-10-16     117.81         117.81  \n",
      "2019-10-17     119.02         118.75  \n",
      "2019-10-18     119.73         119.63  \n",
      "2019-10-22     119.50         120.02  \n",
      "2019-10-23     119.74         119.75  \n",
      "2019-10-24     119.46         119.47  \n",
      "2019-10-25     119.53         119.19  \n",
      "2019-10-27     119.85         119.99  \n",
      "2019-10-29     121.18         120.66  \n",
      "2019-10-30     121.84         121.60  \n",
      "2019-10-31     122.05         122.22  \n",
      "2019-11-01     122.25         121.97  \n",
      "2019-11-04     122.82         123.00  \n",
      "2019-11-05     122.53         122.68  \n",
      "2019-11-06     123.05         122.73  \n",
      "2019-11-07     123.34         123.31  \n",
      "2019-11-08     122.63         123.16  \n",
      "2019-11-11     122.32         122.32  \n",
      "2019-11-13     121.81         122.14  \n",
      "2019-11-14     122.13         121.51  \n",
      "2019-11-15     122.52         122.70  \n",
      "2019-11-18     122.69         122.64  \n",
      "2019-11-19     122.87         122.85  \n",
      "2019-11-20     123.74         123.81  \n",
      "2019-11-21     123.37         123.51  \n",
      "2019-11-22     122.69         122.80  \n",
      "2019-11-25     123.83         123.31  \n",
      "2019-11-26     123.79         124.00  \n",
      "2019-11-27     124.36         124.22  \n",
      "2019-11-28     124.91         124.59  \n",
      "2019-11-29     124.30         124.30   \n",
      "\n"
     ]
    }
   ],
   "source": [
    "equity_data = pd.read_excel (r'C:\\Users\\RSHARMA\\Desktop\\GR3\\Project_Data.xlsx', sheet_name='Equity ETF', index_col='Date',parse_dates=True)\n",
    "print(equity_data,'\\n')"
   ]
  },
  {
   "cell_type": "markdown",
   "id": "630c270a",
   "metadata": {},
   "source": [
    "# 7.Modelling Volatility- Calculating Average, Standard Deviation & Daily Return"
   ]
  },
  {
   "cell_type": "code",
   "execution_count": 4,
   "id": "375ef8a6",
   "metadata": {},
   "outputs": [
    {
     "name": "stdout",
     "output_type": "stream",
     "text": [
      "The average price of the Gold ETF in Oct was 14.906818181818181 and the standard deviation was 0.08190507651203029\n"
     ]
    }
   ],
   "source": [
    "gold_oct=gold_data[(gold_data.index>=pd.to_datetime('2019-10-01'))&(gold_data.index<pd.to_datetime('2019-11-01'))]\n",
    "gold_oct_avg=gold_oct['Adj Close'].mean()\n",
    "gold_oct_std=gold_oct['Adj Close'].std()\n",
    "print('The average price of the Gold ETF in Oct was {} and the standard deviation was {}'.format(gold_oct_avg,gold_oct_std))"
   ]
  },
  {
   "cell_type": "code",
   "execution_count": 5,
   "id": "9b2599b3",
   "metadata": {},
   "outputs": [
    {
     "name": "stdout",
     "output_type": "stream",
     "text": [
      "The average price of the Gold ETF in Nov was 14.6745 and the standard deviation was 0.1634971430621149\n"
     ]
    }
   ],
   "source": [
    "gold_nov=gold_data[(gold_data.index>=pd.to_datetime('2019-11-01'))]\n",
    "gold_nov_avg=gold_nov['Adj Close'].mean()\n",
    "gold_nov_std=gold_nov['Adj Close'].std()\n",
    "print('The average price of the Gold ETF in Nov was {} and the standard deviation was {}'.format(gold_nov_avg,gold_nov_std))\n"
   ]
  },
  {
   "cell_type": "code",
   "execution_count": 6,
   "id": "b54f4652",
   "metadata": {},
   "outputs": [
    {
     "name": "stdout",
     "output_type": "stream",
     "text": [
      "The average price of the Equity ETF in Oct was 118.35900000000001 and the standard deviation was 2.1584348617995355\n"
     ]
    }
   ],
   "source": [
    "equity_oct=equity_data[(equity_data.index>=pd.to_datetime('2019-10-01'))&(equity_data.index<pd.to_datetime('2019-11-01'))]\n",
    "equity_oct_avg=equity_oct['Adj Close'].mean()\n",
    "equity_oct_std=equity_oct['Adj Close'].std()\n",
    "print('The average price of the Equity ETF in Oct was {} and the standard deviation was {}'.format(equity_oct_avg,equity_oct_std))"
   ]
  },
  {
   "cell_type": "code",
   "execution_count": 7,
   "id": "ccc7067d",
   "metadata": {},
   "outputs": [
    {
     "name": "stdout",
     "output_type": "stream",
     "text": [
      "The average price of the Equity ETF in Nov was 123.09750000000001 and the standard deviation was 0.8316367817996663\n"
     ]
    }
   ],
   "source": [
    "equity_nov=equity_data[(equity_data.index>=pd.to_datetime('2019-11-01'))]\n",
    "equity_nov_avg=equity_nov['Adj Close'].mean()\n",
    "equity_nov_std=equity_nov['Adj Close'].std()\n",
    "print('The average price of the Equity ETF in Nov was {} and the standard deviation was {}'.format(equity_nov_avg,equity_nov_std))"
   ]
  },
  {
   "cell_type": "code",
   "execution_count": 8,
   "id": "f34c6f30",
   "metadata": {},
   "outputs": [
    {
     "name": "stdout",
     "output_type": "stream",
     "text": [
      "The max price of the Equity ETF in Oct was 122.05 and the minimum price was 114.55\n"
     ]
    }
   ],
   "source": [
    "equity_oct=equity_data[(equity_data.index>=pd.to_datetime('2019-10-01'))&(equity_data.index<pd.to_datetime('2019-11-01'))]\n",
    "equity_oct_max=equity_oct['Adj Close'].max()\n",
    "equity_oct_min=equity_oct['Adj Close'].min()\n",
    "print('The max price of the Equity ETF in Oct was {} and the minimum price was {}'.format(equity_oct_max,equity_oct_min))"
   ]
  },
  {
   "cell_type": "markdown",
   "id": "9b0cf70c",
   "metadata": {},
   "source": [
    "Daily High and Low for a month"
   ]
  },
  {
   "cell_type": "code",
   "execution_count": 9,
   "id": "f4001f83",
   "metadata": {},
   "outputs": [
    {
     "data": {
      "text/plain": [
       "7.5"
      ]
     },
     "execution_count": 9,
     "metadata": {},
     "output_type": "execute_result"
    }
   ],
   "source": [
    "equity_oct_max-equity_oct_min"
   ]
  },
  {
   "cell_type": "code",
   "execution_count": 10,
   "id": "dec22147",
   "metadata": {},
   "outputs": [
    {
     "name": "stdout",
     "output_type": "stream",
     "text": [
      "The max price of the Equity ETF in Nov was 124.91 and the minimum price was 121.81\n"
     ]
    }
   ],
   "source": [
    "equity_nov=equity_data[(equity_data.index>=pd.to_datetime('2019-11-01'))]\n",
    "equity_nov_max=equity_nov['Adj Close'].max()\n",
    "equity_nov_min=equity_nov['Adj Close'].min()\n",
    "print('The max price of the Equity ETF in Nov was {} and the minimum price was {}'.format(equity_nov_max,equity_nov_min))"
   ]
  },
  {
   "cell_type": "markdown",
   "id": "f759d708",
   "metadata": {},
   "source": [
    "Daily High and Low for a month"
   ]
  },
  {
   "cell_type": "code",
   "execution_count": 11,
   "id": "2fa8ae0e",
   "metadata": {},
   "outputs": [
    {
     "data": {
      "text/plain": [
       "3.0999999999999943"
      ]
     },
     "execution_count": 11,
     "metadata": {},
     "output_type": "execute_result"
    }
   ],
   "source": [
    "equity_nov_max-equity_nov_min"
   ]
  },
  {
   "cell_type": "code",
   "execution_count": 12,
   "id": "6cdbcbc0",
   "metadata": {},
   "outputs": [
    {
     "name": "stdout",
     "output_type": "stream",
     "text": [
      "The max price of the Gold ETF in Oct was 15.04 and the minimum price was 14.77\n"
     ]
    }
   ],
   "source": [
    "gold_oct=gold_data[(gold_data.index>=pd.to_datetime('2019-10-01'))&(gold_data.index<pd.to_datetime('2019-11-01'))]\n",
    "gold_oct_max=gold_oct['Adj Close'].max()\n",
    "gold_oct_min=gold_oct['Adj Close'].min()\n",
    "print('The max price of the Gold ETF in Oct was {} and the minimum price was {}'.format(gold_oct_max,gold_oct_min))"
   ]
  },
  {
   "cell_type": "code",
   "execution_count": 13,
   "id": "d34fc888",
   "metadata": {},
   "outputs": [
    {
     "data": {
      "text/plain": [
       "0.2699999999999996"
      ]
     },
     "execution_count": 13,
     "metadata": {},
     "output_type": "execute_result"
    }
   ],
   "source": [
    "gold_oct_max-gold_oct_min"
   ]
  },
  {
   "cell_type": "code",
   "execution_count": 14,
   "id": "8242694f",
   "metadata": {},
   "outputs": [
    {
     "name": "stdout",
     "output_type": "stream",
     "text": [
      "The max price of the Gold ETF in Nov was 15.09 and the minimum price was 14.51\n"
     ]
    }
   ],
   "source": [
    "gold_nov=gold_data[(gold_data.index>=pd.to_datetime('2019-11-01'))]\n",
    "gold_nov_max=gold_nov['Adj Close'].max()\n",
    "gold_nov_min=gold_nov['Adj Close'].min()\n",
    "print('The max price of the Gold ETF in Nov was {} and the minimum price was {}'.format(gold_nov_max,gold_nov_min))"
   ]
  },
  {
   "cell_type": "code",
   "execution_count": 15,
   "id": "78127f0e",
   "metadata": {},
   "outputs": [
    {
     "data": {
      "text/plain": [
       "0.5800000000000001"
      ]
     },
     "execution_count": 15,
     "metadata": {},
     "output_type": "execute_result"
    }
   ],
   "source": [
    "gold_nov_max-gold_nov_min"
   ]
  },
  {
   "cell_type": "markdown",
   "id": "3618923f",
   "metadata": {},
   "source": [
    "# Daily Return "
   ]
  },
  {
   "cell_type": "code",
   "execution_count": 16,
   "id": "c00590ec",
   "metadata": {},
   "outputs": [
    {
     "data": {
      "text/html": [
       "<div>\n",
       "<style scoped>\n",
       "    .dataframe tbody tr th:only-of-type {\n",
       "        vertical-align: middle;\n",
       "    }\n",
       "\n",
       "    .dataframe tbody tr th {\n",
       "        vertical-align: top;\n",
       "    }\n",
       "\n",
       "    .dataframe thead th {\n",
       "        text-align: right;\n",
       "    }\n",
       "</style>\n",
       "<table border=\"1\" class=\"dataframe\">\n",
       "  <thead>\n",
       "    <tr style=\"text-align: right;\">\n",
       "      <th></th>\n",
       "      <th>Open</th>\n",
       "      <th>High</th>\n",
       "      <th>Low</th>\n",
       "      <th>Close</th>\n",
       "      <th>Adj Close</th>\n",
       "      <th>Daily Return</th>\n",
       "    </tr>\n",
       "    <tr>\n",
       "      <th>Date</th>\n",
       "      <th></th>\n",
       "      <th></th>\n",
       "      <th></th>\n",
       "      <th></th>\n",
       "      <th></th>\n",
       "      <th></th>\n",
       "    </tr>\n",
       "  </thead>\n",
       "  <tbody>\n",
       "    <tr>\n",
       "      <th>2019-10-01</th>\n",
       "      <td>14.62</td>\n",
       "      <td>14.835</td>\n",
       "      <td>14.590</td>\n",
       "      <td>14.77</td>\n",
       "      <td>14.77</td>\n",
       "      <td>NaN</td>\n",
       "    </tr>\n",
       "    <tr>\n",
       "      <th>2019-10-02</th>\n",
       "      <td>14.91</td>\n",
       "      <td>15.020</td>\n",
       "      <td>14.875</td>\n",
       "      <td>14.95</td>\n",
       "      <td>14.95</td>\n",
       "      <td>0.012187</td>\n",
       "    </tr>\n",
       "    <tr>\n",
       "      <th>2019-10-03</th>\n",
       "      <td>14.96</td>\n",
       "      <td>15.160</td>\n",
       "      <td>14.960</td>\n",
       "      <td>15.02</td>\n",
       "      <td>15.02</td>\n",
       "      <td>0.004682</td>\n",
       "    </tr>\n",
       "    <tr>\n",
       "      <th>2019-10-04</th>\n",
       "      <td>14.98</td>\n",
       "      <td>15.065</td>\n",
       "      <td>14.950</td>\n",
       "      <td>15.02</td>\n",
       "      <td>15.02</td>\n",
       "      <td>0.000000</td>\n",
       "    </tr>\n",
       "    <tr>\n",
       "      <th>2019-10-07</th>\n",
       "      <td>14.95</td>\n",
       "      <td>15.010</td>\n",
       "      <td>14.850</td>\n",
       "      <td>14.90</td>\n",
       "      <td>14.90</td>\n",
       "      <td>-0.007989</td>\n",
       "    </tr>\n",
       "  </tbody>\n",
       "</table>\n",
       "</div>"
      ],
      "text/plain": [
       "             Open    High     Low  Close  Adj Close  Daily Return\n",
       "Date                                                             \n",
       "2019-10-01  14.62  14.835  14.590  14.77      14.77           NaN\n",
       "2019-10-02  14.91  15.020  14.875  14.95      14.95      0.012187\n",
       "2019-10-03  14.96  15.160  14.960  15.02      15.02      0.004682\n",
       "2019-10-04  14.98  15.065  14.950  15.02      15.02      0.000000\n",
       "2019-10-07  14.95  15.010  14.850  14.90      14.90     -0.007989"
      ]
     },
     "execution_count": 16,
     "metadata": {},
     "output_type": "execute_result"
    }
   ],
   "source": [
    "gold_data[\"Daily Return\"] = gold_data[\"Adj Close\"].pct_change(1)\n",
    "gold_data.head()"
   ]
  },
  {
   "cell_type": "code",
   "execution_count": 17,
   "id": "fad3f8ab",
   "metadata": {},
   "outputs": [
    {
     "data": {
      "text/html": [
       "<div>\n",
       "<style scoped>\n",
       "    .dataframe tbody tr th:only-of-type {\n",
       "        vertical-align: middle;\n",
       "    }\n",
       "\n",
       "    .dataframe tbody tr th {\n",
       "        vertical-align: top;\n",
       "    }\n",
       "\n",
       "    .dataframe thead th {\n",
       "        text-align: right;\n",
       "    }\n",
       "</style>\n",
       "<table border=\"1\" class=\"dataframe\">\n",
       "  <thead>\n",
       "    <tr style=\"text-align: right;\">\n",
       "      <th></th>\n",
       "      <th>Prev Close</th>\n",
       "      <th>Open Price</th>\n",
       "      <th>High Price</th>\n",
       "      <th>Low Price</th>\n",
       "      <th>Last Price</th>\n",
       "      <th>Adj Close</th>\n",
       "      <th>Average Price</th>\n",
       "      <th>Daily Return</th>\n",
       "    </tr>\n",
       "    <tr>\n",
       "      <th>Date</th>\n",
       "      <th></th>\n",
       "      <th></th>\n",
       "      <th></th>\n",
       "      <th></th>\n",
       "      <th></th>\n",
       "      <th></th>\n",
       "      <th></th>\n",
       "      <th></th>\n",
       "    </tr>\n",
       "  </thead>\n",
       "  <tbody>\n",
       "    <tr>\n",
       "      <th>2019-10-01</th>\n",
       "      <td>117.77</td>\n",
       "      <td>118.42</td>\n",
       "      <td>118.98</td>\n",
       "      <td>116.52</td>\n",
       "      <td>117.24</td>\n",
       "      <td>117.97</td>\n",
       "      <td>117.69</td>\n",
       "      <td>NaN</td>\n",
       "    </tr>\n",
       "    <tr>\n",
       "      <th>2019-10-03</th>\n",
       "      <td>117.97</td>\n",
       "      <td>118.02</td>\n",
       "      <td>118.02</td>\n",
       "      <td>116.14</td>\n",
       "      <td>116.60</td>\n",
       "      <td>116.59</td>\n",
       "      <td>116.57</td>\n",
       "      <td>-0.011698</td>\n",
       "    </tr>\n",
       "    <tr>\n",
       "      <th>2019-10-04</th>\n",
       "      <td>116.59</td>\n",
       "      <td>117.00</td>\n",
       "      <td>117.28</td>\n",
       "      <td>115.20</td>\n",
       "      <td>115.43</td>\n",
       "      <td>115.41</td>\n",
       "      <td>116.11</td>\n",
       "      <td>-0.010121</td>\n",
       "    </tr>\n",
       "    <tr>\n",
       "      <th>2019-10-07</th>\n",
       "      <td>115.41</td>\n",
       "      <td>116.00</td>\n",
       "      <td>117.00</td>\n",
       "      <td>114.21</td>\n",
       "      <td>114.60</td>\n",
       "      <td>114.55</td>\n",
       "      <td>114.99</td>\n",
       "      <td>-0.007452</td>\n",
       "    </tr>\n",
       "    <tr>\n",
       "      <th>2019-10-09</th>\n",
       "      <td>114.55</td>\n",
       "      <td>115.50</td>\n",
       "      <td>116.67</td>\n",
       "      <td>114.25</td>\n",
       "      <td>116.57</td>\n",
       "      <td>116.51</td>\n",
       "      <td>115.80</td>\n",
       "      <td>0.017110</td>\n",
       "    </tr>\n",
       "  </tbody>\n",
       "</table>\n",
       "</div>"
      ],
      "text/plain": [
       "            Prev Close  Open Price  High Price  Low Price  Last Price  \\\n",
       "Date                                                                    \n",
       "2019-10-01      117.77      118.42      118.98     116.52      117.24   \n",
       "2019-10-03      117.97      118.02      118.02     116.14      116.60   \n",
       "2019-10-04      116.59      117.00      117.28     115.20      115.43   \n",
       "2019-10-07      115.41      116.00      117.00     114.21      114.60   \n",
       "2019-10-09      114.55      115.50      116.67     114.25      116.57   \n",
       "\n",
       "            Adj Close  Average Price  Daily Return  \n",
       "Date                                                \n",
       "2019-10-01     117.97         117.69           NaN  \n",
       "2019-10-03     116.59         116.57     -0.011698  \n",
       "2019-10-04     115.41         116.11     -0.010121  \n",
       "2019-10-07     114.55         114.99     -0.007452  \n",
       "2019-10-09     116.51         115.80      0.017110  "
      ]
     },
     "execution_count": 17,
     "metadata": {},
     "output_type": "execute_result"
    }
   ],
   "source": [
    "equity_data[\"Daily Return\"] = equity_data[\"Adj Close\"].pct_change(1)\n",
    "equity_data.head()"
   ]
  },
  {
   "cell_type": "markdown",
   "id": "7a00daf2",
   "metadata": {},
   "source": [
    "# GARCH Model"
   ]
  },
  {
   "cell_type": "code",
   "execution_count": 18,
   "id": "572b223c",
   "metadata": {},
   "outputs": [],
   "source": [
    "import arch\n",
    "import holidays\n",
    "import pandas as pd\n",
    "import numpy as np\n",
    "from pandas import Series, DataFrame\n",
    "import matplotlib.pyplot as plt\n",
    "import seaborn as sns\n",
    "\n",
    "\n",
    "from scipy import stats\n",
    "from datetime import datetime\n",
    "from nelson_siegel_svensson import NelsonSiegelSvenssonCurve, NelsonSiegelCurve\n",
    "from nelson_siegel_svensson.calibrate import calibrate_ns_ols, calibrate_nss_ols\n",
    "from arch import arch_model\n",
    "\n",
    "%matplotlib inline"
   ]
  },
  {
   "cell_type": "code",
   "execution_count": 19,
   "id": "e20afbe1",
   "metadata": {},
   "outputs": [],
   "source": [
    "def get_data(df, month, column):\n",
    "    return df[(df.index >= f\"2019-{month:02d}-01\") & (df.index < f\"2019-{(month+1):02d}-01\")][column]"
   ]
  },
  {
   "cell_type": "code",
   "execution_count": null,
   "id": "89ce7f08",
   "metadata": {},
   "outputs": [],
   "source": []
  },
  {
   "cell_type": "code",
   "execution_count": 20,
   "id": "92e19bd1",
   "metadata": {},
   "outputs": [
    {
     "name": "stdout",
     "output_type": "stream",
     "text": [
      "------------------------------------------------------------------------------\n",
      "------------------------------------------------------------------------------\n",
      "------------------------------------------------------------------------------\n",
      "------------------------------------------------------------------------------\n",
      "------------------------------------------------------------------------------\n",
      "------------------------------------------------------------------------------\n",
      "------------------------------------------------------------------------------\n",
      "------------------------------------------------------------------------------\n",
      "------------------------------------------------------------------------------\n",
      "------------------------------------------------------------------------------\n",
      "------------------------------------------------------------------------------\n",
      "------------------------------------------------------------------------------\n"
     ]
    }
   ],
   "source": [
    "df_name = {0: \"Gold ETF\", 1: \"Equity ETF\"}\n",
    "month_name = {10: \"October\", 11: \"November\"}\n",
    "for index, df in enumerate([gold_data, equity_data]):\n",
    "    for month in [10, 11]:\n",
    "        print(\"-\" * 78)\n",
    "        print(\"-\" * 78)\n",
    "        print(\"-\" * 78)\n",
    "        \n",
    "        data = get_data(df, month, \"Adj Close\")"
   ]
  },
  {
   "cell_type": "code",
   "execution_count": 21,
   "id": "96e504e5",
   "metadata": {},
   "outputs": [],
   "source": [
    "def fit_garch(data):\n",
    "    garch = arch.arch_model(data, vol='garch', p=1, o=0, q=1)\n",
    "    garch_fitted = garch.fit()\n",
    "    print(garch_fitted.summary())"
   ]
  },
  {
   "cell_type": "code",
   "execution_count": 22,
   "id": "db8d90de",
   "metadata": {},
   "outputs": [
    {
     "name": "stdout",
     "output_type": "stream",
     "text": [
      "------------------------------------------------------------------------------\n",
      "------------------------------------------------------------------------------\n",
      "------------------------------------------------------------------------------\n",
      "GARCH model for Gold ETF in October\n",
      "Iteration:      1,   Func. Count:      6,   Neg. LLF: 3623740.8198504513\n",
      "Iteration:      2,   Func. Count:     16,   Neg. LLF: -78.2424091711704\n",
      "Optimization terminated successfully    (Exit mode 0)\n",
      "            Current function value: -78.24240922102678\n",
      "            Iterations: 6\n",
      "            Function evaluations: 16\n",
      "            Gradient evaluations: 2\n",
      "                     Constant Mean - GARCH Model Results                      \n",
      "==============================================================================\n",
      "Dep. Variable:           Daily Return   R-squared:                       0.000\n",
      "Mean Model:             Constant Mean   Adj. R-squared:                  0.000\n",
      "Vol Model:                      GARCH   Log-Likelihood:                78.2424\n",
      "Distribution:                  Normal   AIC:                          -148.485\n",
      "Method:            Maximum Likelihood   BIC:                          -144.307\n",
      "                                        No. Observations:                   21\n",
      "Date:                Tue, Jan 11 2022   Df Residuals:                       20\n",
      "Time:                        22:37:47   Df Model:                            1\n",
      "                                 Mean Model                                 \n",
      "============================================================================\n",
      "                 coef    std err          t      P>|t|      95.0% Conf. Int.\n",
      "----------------------------------------------------------------------------\n",
      "mu         4.6524e-04  8.449e-07    550.612      0.000 [4.636e-04,4.669e-04]\n",
      "                              Volatility Model                              \n",
      "============================================================================\n",
      "                 coef    std err          t      P>|t|      95.0% Conf. Int.\n",
      "----------------------------------------------------------------------------\n",
      "omega      1.0312e-05  5.572e-11  1.851e+05      0.000 [1.031e-05,1.031e-05]\n",
      "alpha[1]   1.0000e-02      0.360  2.777e-02      0.978     [ -0.696,  0.716]\n",
      "beta[1]        0.6900      0.254      2.721  6.506e-03     [  0.193,  1.187]\n",
      "============================================================================\n",
      "\n",
      "Covariance estimator: robust\n",
      "------------------------------------------------------------------------------\n",
      "------------------------------------------------------------------------------\n",
      "------------------------------------------------------------------------------\n",
      "GARCH model for Gold ETF in November\n",
      "Iteration:      1,   Func. Count:      6,   Neg. LLF: 54589543.5906568\n",
      "Iteration:      2,   Func. Count:     16,   Neg. LLF: -72.83869951928807\n",
      "Optimization terminated successfully    (Exit mode 0)\n",
      "            Current function value: -72.83869964045222\n",
      "            Iterations: 6\n",
      "            Function evaluations: 16\n",
      "            Gradient evaluations: 2\n",
      "                     Constant Mean - GARCH Model Results                      \n",
      "==============================================================================\n",
      "Dep. Variable:           Daily Return   R-squared:                       0.000\n",
      "Mean Model:             Constant Mean   Adj. R-squared:                  0.000\n",
      "Vol Model:                      GARCH   Log-Likelihood:                72.8387\n",
      "Distribution:                  Normal   AIC:                          -137.677\n",
      "Method:            Maximum Likelihood   BIC:                          -133.694\n",
      "                                        No. Observations:                   20\n",
      "Date:                Tue, Jan 11 2022   Df Residuals:                       19\n",
      "Time:                        22:37:47   Df Model:                            1\n",
      "                                   Mean Model                                  \n",
      "===============================================================================\n",
      "                  coef    std err          t      P>|t|        95.0% Conf. Int.\n",
      "-------------------------------------------------------------------------------\n",
      "mu         -7.3910e-04  1.493e-04     -4.950  7.421e-07 [-1.032e-03,-4.465e-04]\n",
      "                              Volatility Model                              \n",
      "============================================================================\n",
      "                 coef    std err          t      P>|t|      95.0% Conf. Int.\n",
      "----------------------------------------------------------------------------\n",
      "omega      4.4833e-06  1.191e-10  3.764e+04      0.000 [4.483e-06,4.484e-06]\n",
      "alpha[1]       0.2000      0.653      0.306      0.759     [ -1.079,  1.479]\n",
      "beta[1]        0.7000      0.432      1.622      0.105     [ -0.146,  1.546]\n",
      "============================================================================\n",
      "\n",
      "Covariance estimator: robust\n",
      "------------------------------------------------------------------------------\n",
      "------------------------------------------------------------------------------\n",
      "------------------------------------------------------------------------------\n",
      "GARCH model for Equity ETF in October\n",
      "Iteration:      1,   Func. Count:      6,   Neg. LLF: 263322199.08921012\n",
      "Iteration:      2,   Func. Count:     17,   Neg. LLF: 577598.7970341268\n",
      "Iteration:      3,   Func. Count:     27,   Neg. LLF: -68.31664353134748\n",
      "Optimization terminated successfully    (Exit mode 0)\n",
      "            Current function value: -68.31664361596978\n",
      "            Iterations: 7\n",
      "            Function evaluations: 27\n",
      "            Gradient evaluations: 3\n",
      "                     Constant Mean - GARCH Model Results                      \n",
      "==============================================================================\n",
      "Dep. Variable:           Daily Return   R-squared:                       0.000\n",
      "Mean Model:             Constant Mean   Adj. R-squared:                  0.000\n",
      "Vol Model:                      GARCH   Log-Likelihood:                68.3166\n",
      "Distribution:                  Normal   AIC:                          -128.633\n",
      "Method:            Maximum Likelihood   BIC:                          -124.856\n",
      "                                        No. Observations:                   19\n",
      "Date:                Tue, Jan 11 2022   Df Residuals:                       18\n",
      "Time:                        22:37:47   Df Model:                            1\n",
      "                                 Mean Model                                 \n",
      "============================================================================\n",
      "                 coef    std err          t      P>|t|      95.0% Conf. Int.\n",
      "----------------------------------------------------------------------------\n",
      "mu         2.9498e-03  1.336e-03      2.207  2.730e-02 [3.303e-04,5.569e-03]\n",
      "                              Volatility Model                              \n",
      "============================================================================\n",
      "                 coef    std err          t      P>|t|      95.0% Conf. Int.\n",
      "----------------------------------------------------------------------------\n",
      "omega      1.5781e-05  9.203e-12  1.715e+06      0.000 [1.578e-05,1.578e-05]\n",
      "alpha[1]       0.2000      0.149      1.340      0.180  [-9.260e-02,  0.493]\n",
      "beta[1]        0.5000  9.993e-02      5.004  5.628e-07     [  0.304,  0.696]\n",
      "============================================================================\n",
      "\n",
      "Covariance estimator: robust\n",
      "------------------------------------------------------------------------------\n",
      "------------------------------------------------------------------------------\n",
      "------------------------------------------------------------------------------\n",
      "GARCH model for Equity ETF in November\n"
     ]
    },
    {
     "name": "stderr",
     "output_type": "stream",
     "text": [
      "C:\\Users\\RSHARMA\\Anaconda3\\lib\\site-packages\\arch\\univariate\\base.py:309: DataScaleWarning:\n",
      "\n",
      "y is poorly scaled, which may affect convergence of the optimizer when\n",
      "estimating the model parameters. The scale of y is 3.437e-05. Parameter\n",
      "estimation work better when this value is between 1 and 1000. The recommended\n",
      "rescaling is 100 * y.\n",
      "\n",
      "This warning can be disabled by either rescaling y before initializing the\n",
      "model or by setting rescale=False.\n",
      "\n",
      "\n",
      "C:\\Users\\RSHARMA\\Anaconda3\\lib\\site-packages\\arch\\univariate\\base.py:309: DataScaleWarning:\n",
      "\n",
      "y is poorly scaled, which may affect convergence of the optimizer when\n",
      "estimating the model parameters. The scale of y is 4.483e-05. Parameter\n",
      "estimation work better when this value is between 1 and 1000. The recommended\n",
      "rescaling is 100 * y.\n",
      "\n",
      "This warning can be disabled by either rescaling y before initializing the\n",
      "model or by setting rescale=False.\n",
      "\n",
      "\n",
      "C:\\Users\\RSHARMA\\Anaconda3\\lib\\site-packages\\arch\\univariate\\base.py:309: DataScaleWarning:\n",
      "\n",
      "y is poorly scaled, which may affect convergence of the optimizer when\n",
      "estimating the model parameters. The scale of y is 5.259e-05. Parameter\n",
      "estimation work better when this value is between 1 and 1000. The recommended\n",
      "rescaling is 100 * y.\n",
      "\n",
      "This warning can be disabled by either rescaling y before initializing the\n",
      "model or by setting rescale=False.\n",
      "\n",
      "\n",
      "C:\\Users\\RSHARMA\\Anaconda3\\lib\\site-packages\\arch\\univariate\\base.py:309: DataScaleWarning:\n",
      "\n",
      "y is poorly scaled, which may affect convergence of the optimizer when\n",
      "estimating the model parameters. The scale of y is 1.776e-05. Parameter\n",
      "estimation work better when this value is between 1 and 1000. The recommended\n",
      "rescaling is 100 * y.\n",
      "\n",
      "This warning can be disabled by either rescaling y before initializing the\n",
      "model or by setting rescale=False.\n",
      "\n",
      "\n"
     ]
    },
    {
     "name": "stdout",
     "output_type": "stream",
     "text": [
      "Iteration:      1,   Func. Count:      6,   Neg. LLF: 39777139.658834785\n",
      "Iteration:      2,   Func. Count:     17,   Neg. LLF: 746342.8469854287\n",
      "Optimization terminated successfully    (Exit mode 0)\n",
      "            Current function value: -81.05906033844714\n",
      "            Iterations: 2\n",
      "            Function evaluations: 24\n",
      "            Gradient evaluations: 2\n",
      "                     Constant Mean - GARCH Model Results                      \n",
      "==============================================================================\n",
      "Dep. Variable:           Daily Return   R-squared:                       0.000\n",
      "Mean Model:             Constant Mean   Adj. R-squared:                  0.000\n",
      "Vol Model:                      GARCH   Log-Likelihood:                81.0591\n",
      "Distribution:                  Normal   AIC:                          -154.118\n",
      "Method:            Maximum Likelihood   BIC:                          -150.135\n",
      "                                        No. Observations:                   20\n",
      "Date:                Tue, Jan 11 2022   Df Residuals:                       19\n",
      "Time:                        22:37:47   Df Model:                            1\n",
      "                                 Mean Model                                 \n",
      "============================================================================\n",
      "                 coef    std err          t      P>|t|      95.0% Conf. Int.\n",
      "----------------------------------------------------------------------------\n",
      "mu         9.2956e-04  2.535e-06    366.657      0.000 [9.246e-04,9.345e-04]\n",
      "                              Volatility Model                              \n",
      "============================================================================\n",
      "                 coef    std err          t      P>|t|      95.0% Conf. Int.\n",
      "----------------------------------------------------------------------------\n",
      "omega      5.3270e-06  3.482e-10  1.530e+04      0.000 [5.326e-06,5.328e-06]\n",
      "alpha[1]   1.0000e-02      6.157  1.624e-03      0.999     [-12.058, 12.078]\n",
      "beta[1]        0.6900      6.618      0.104      0.917     [-12.282, 13.662]\n",
      "============================================================================\n",
      "\n",
      "Covariance estimator: robust\n"
     ]
    }
   ],
   "source": [
    "for index, df in enumerate([gold_data, equity_data]):\n",
    "    for month in [10, 11]:\n",
    "        print(\"-\" * 78)\n",
    "        print(\"-\" * 78)\n",
    "        print(\"-\" * 78)\n",
    "        print(f\"GARCH model for {df_name[index]} in {month_name[month]}\")\n",
    "        data = get_data(df, month, \"Daily Return\")\n",
    "        data = data.dropna()\n",
    "        fit_garch(data)"
   ]
  },
  {
   "cell_type": "markdown",
   "id": "73214b26",
   "metadata": {},
   "source": [
    "# Pearson Corelation"
   ]
  },
  {
   "cell_type": "code",
   "execution_count": 23,
   "id": "7f0b217c",
   "metadata": {},
   "outputs": [
    {
     "name": "stdout",
     "output_type": "stream",
     "text": [
      "The correlation of gold and equity ETFs in November is 0.1206599810936854\n"
     ]
    }
   ],
   "source": [
    "corr_nov = stats.pearsonr(gold_data[gold_data.index >= \"2019-11-01\"][\"Daily Return\"], equity_data[equity_data.index >= \"2019-11-01\"][\"Daily Return\"])[0]\n",
    "print(f\"The correlation of gold and equity ETFs in November is {corr_nov}\")"
   ]
  },
  {
   "cell_type": "code",
   "execution_count": 24,
   "id": "523b2128",
   "metadata": {},
   "outputs": [
    {
     "name": "stdout",
     "output_type": "stream",
     "text": [
      "The correlation of gold and equity ETFs in October is 0.1206599810936854\n"
     ]
    }
   ],
   "source": [
    "corr_oct = stats.pearsonr(gold_data[gold_data.index >= \"2019-11-01\"][\"Daily Return\"], equity_data[equity_data.index >= \"2019-11-01\"][\"Daily Return\"])[0]\n",
    "print(f\"The correlation of gold and equity ETFs in October is {corr_oct}\")"
   ]
  }
 ],
 "metadata": {
  "kernelspec": {
   "display_name": "Python 3",
   "language": "python",
   "name": "python3"
  },
  "language_info": {
   "codemirror_mode": {
    "name": "ipython",
    "version": 3
   },
   "file_extension": ".py",
   "mimetype": "text/x-python",
   "name": "python",
   "nbconvert_exporter": "python",
   "pygments_lexer": "ipython3",
   "version": "3.8.8"
  }
 },
 "nbformat": 4,
 "nbformat_minor": 5
}
